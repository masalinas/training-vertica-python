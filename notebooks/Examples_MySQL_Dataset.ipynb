{
 "cells": [
  {
   "cell_type": "markdown",
   "metadata": {},
   "source": [
    "# Exploratory data analysis (EDA) on the SGIJ MySQL Dataset"
   ]
  },
  {
   "cell_type": "markdown",
   "metadata": {},
   "source": [
    "Make a EDA Study for all players activate during a year selected"
   ]
  },
  {
   "cell_type": "code",
   "execution_count": 24,
   "metadata": {},
   "outputs": [],
   "source": [
    "import math\n",
    "from datetime import date\n",
    "from datetime import datetime\n",
    "from collections import Counter, OrderedDict\n",
    "import numpy as np\n",
    "import pandas as pd\n",
    "from pandas.plotting import scatter_matrix\n",
    "from pandas.plotting import register_matplotlib_converters\n",
    "import matplotlib\n",
    "import matplotlib.pyplot as plt\n",
    "import mysql.connector\n",
    "from sklearn.cluster import KMeans\n",
    "from sklearn import metrics\n",
    "from scipy.stats import linregress\n",
    "from scipy import stats\n",
    "from scipy.spatial.distance import cdist\n",
    "from IPython.display import display, Markdown\n",
    "from tabulate import tabulate\n",
    "%matplotlib inline\n",
    "\n",
    "register_matplotlib_converters()"
   ]
  },
  {
   "cell_type": "markdown",
   "metadata": {},
   "source": [
    "Connect to MySQL databasef from credentials"
   ]
  },
  {
   "cell_type": "markdown",
   "metadata": {},
   "source": [
    "NoteNook Year EDA Study"
   ]
  },
  {
   "cell_type": "code",
   "execution_count": 2,
   "metadata": {},
   "outputs": [],
   "source": [
    "YEAR = 2015"
   ]
  },
  {
   "cell_type": "markdown",
   "metadata": {},
   "source": [
    "MySQL Database connection string"
   ]
  },
  {
   "cell_type": "code",
   "execution_count": 3,
   "metadata": {},
   "outputs": [],
   "source": [
    "config = {\n",
    "  'user': 'root',\n",
    "  'password': 'thingtrack',\n",
    "  'host': '127.0.0.1',\n",
    "  'database': 'gaming',\n",
    "  'raise_on_warnings': True,\n",
    "  'charset': 'utf8'\n",
    "}\n",
    "\n",
    "try:\n",
    "  cnx = mysql.connector.connect(**config)\n",
    "except mysql.connector.Error as err:\n",
    "  if err.errno == errorcode.ER_ACCESS_DENIED_ERROR:\n",
    "    print(\"Something is wrong with your user name or password\")\n",
    "  elif err.errno == errorcode.ER_BAD_DB_ERROR:\n",
    "    print(\"Database does not exist\")\n",
    "  else:\n",
    "    print(err)"
   ]
  },
  {
   "cell_type": "markdown",
   "metadata": {},
   "source": [
    "## Sex player bar chart distribution"
   ]
  },
  {
   "cell_type": "markdown",
   "metadata": {},
   "source": [
    "Get raw Dataset"
   ]
  },
  {
   "cell_type": "code",
   "execution_count": 4,
   "metadata": {},
   "outputs": [],
   "source": [
    "cursor = cnx.cursor()\n",
    "\n",
    "query = ('SELECT pl.sex, COUNT(pl.sex) as total'\n",
    "        ' FROM player pl'\n",
    "        ' WHERE YEAR(pl.activation_date) = %s'\n",
    "        ' GROUP BY pl.sex' \n",
    "        ' ORDER BY pl.sex') %YEAR\n",
    "\n",
    "cursor.execute(query)\n",
    "\n",
    "# return a list of tuples\n",
    "result_sex = list(cursor.fetchall())"
   ]
  },
  {
   "cell_type": "markdown",
   "metadata": {},
   "source": [
    "Plot sex distribution Dataset"
   ]
  },
  {
   "cell_type": "code",
   "execution_count": 5,
   "metadata": {},
   "outputs": [
    {
     "data": {
      "image/png": "[encoded data removed]",
      "text/plain": [
       "<Figure size 576x576 with 1 Axes>"
      ]
     },
     "metadata": {
      "needs_background": "light"
     },
     "output_type": "display_data"
    },
    {
     "name": "stdout",
     "output_type": "stream",
     "text": [
      "Female Dataset Size: 38\n",
      "Male Dataset Size: 59\n",
      "------------------------\n",
      "Dataset Size: 97\n"
     ]
    }
   ],
   "source": [
    "data = np.array(result_sex) # numpy convert to string all values\n",
    "labels = data[:, 0]\n",
    "values = data[:, 1].astype(int)\n",
    "    \n",
    "plt.figure(figsize=(8, 8))  \n",
    "plt.bar(labels, values, color=('blue', 'green'))\n",
    "plt.title('Players Gender Distribution')\n",
    "plt.xlabel('Gender')\n",
    "plt.ylabel('No of Players')\n",
    "plt.xticks(np.arange(labels.size), ('Female', 'Male'), rotation=20)\n",
    "plt.grid(axis='y', alpha=0.75)\n",
    "plt.show()\n",
    "\n",
    "print('Female Dataset Size: ' + str(values[0]))\n",
    "print('Male Dataset Size: ' + str(values[1]))\n",
    "print('------------------------')\n",
    "print('Dataset Size: ' + str(sum(values)))"
   ]
  },
  {
   "cell_type": "markdown",
   "metadata": {},
   "source": [
    "## Deposit player histogram distribution"
   ]
  },
  {
   "cell_type": "markdown",
   "metadata": {},
   "source": [
    "Get raw Dataset"
   ]
  },
  {
   "cell_type": "code",
   "execution_count": 6,
   "metadata": {},
   "outputs": [],
   "source": [
    "cursor = cnx.cursor()\n",
    "\n",
    "query = ('SELECT player_id, DATE(checkin_time) AS checkin_time, SUM(deposit) tot_deposit,'\n",
    "         ' CASE'\n",
    "         '    WHEN SUM(deposit)<200 THEN \"VERY LOW\"'\n",
    "         '    WHEN SUM(deposit)>=200 AND SUM(deposit)<500 THEN \"LOW\"'\n",
    "         '    WHEN SUM(deposit)>=500 AND SUM(deposit)<700 THEN \"HIGH\"'\n",
    "         '    WHEN SUM(deposit)>=700 THEN \"VERY HIGH\"'\n",
    "         ' END as deposit_level'\n",
    "         ' FROM gaming.account'\n",
    "         ' WHERE YEAR(checkin_time) = %s'\n",
    "         ' GROUP BY player_id, DATE(checkin_time)') %YEAR\n",
    "\n",
    "cursor.execute(query)\n",
    "\n",
    "# return a list of tuples\n",
    "result_deposit = list(cursor.fetchall())"
   ]
  },
  {
   "cell_type": "markdown",
   "metadata": {},
   "source": [
    "Plot deposit distribution Dataset"
   ]
  },
  {
   "cell_type": "code",
   "execution_count": 50,
   "metadata": {},
   "outputs": [
    {
     "data": {
      "image/png": "[encoded data removed]",
      "text/plain": [
       "<Figure size 576x576 with 1 Axes>"
      ]
     },
     "metadata": {
      "needs_background": "light"
     },
     "output_type": "display_data"
    },
    {
     "name": "stdout",
     "output_type": "stream",
     "text": [
      "    player_id checkin_time tot_deposit deposit_level\n",
      "0           1   2015-09-17         560          HIGH\n",
      "1           1   2015-09-20         330           LOW\n",
      "2           1   2015-09-22         950     VERY HIGH\n",
      "3           1   2015-09-23         310           LOW\n",
      "4           2   2015-11-01         760     VERY HIGH\n",
      "5           2   2015-11-04         650          HIGH\n",
      "6           2   2015-11-05        1120     VERY HIGH\n",
      "7           3   2015-03-17        1090     VERY HIGH\n",
      "8           3   2015-03-23         730     VERY HIGH\n",
      "9           4   2015-07-12         840     VERY HIGH\n",
      "10          4   2015-07-15         330           LOW\n",
      "11          4   2015-07-17         590          HIGH\n",
      "12          4   2015-07-18         570          HIGH\n",
      "13          4   2015-07-19        1240     VERY HIGH\n",
      "14          6   2015-11-19         850     VERY HIGH\n",
      "15          8   2015-05-01         790     VERY HIGH\n",
      "16          8   2015-05-05         530          HIGH\n",
      "17          8   2015-05-06         390           LOW\n",
      "18         12   2015-12-22         760     VERY HIGH\n",
      "19         12   2015-12-25        1210     VERY HIGH\n",
      "20         12   2015-12-26         850     VERY HIGH\n",
      "21         12   2015-12-28        1260     VERY HIGH\n",
      "22         13   2015-05-28         980     VERY HIGH\n",
      "23         13   2015-05-31        1330     VERY HIGH\n",
      "24         13   2015-06-02         410           LOW\n",
      "25         13   2015-06-03        1510     VERY HIGH\n",
      "26         13   2015-06-04         330           LOW\n",
      "27         13   2015-12-14         660          HIGH\n",
      "28         13   2015-12-19         450           LOW\n",
      "29         13   2015-12-21         560          HIGH\n",
      "..        ...          ...         ...           ...\n",
      "311       418   2015-05-31         770     VERY HIGH\n",
      "312       418   2015-06-01         820     VERY HIGH\n",
      "313       419   2015-10-12         940     VERY HIGH\n",
      "314       419   2015-10-16        2200     VERY HIGH\n",
      "315       419   2015-10-18        1090     VERY HIGH\n",
      "316       419   2015-10-19         480           LOW\n",
      "317       421   2015-06-10         190      VERY LOW\n",
      "318       433   2015-03-22         820     VERY HIGH\n",
      "319       433   2015-03-26         440           LOW\n",
      "320       433   2015-03-27         450           LOW\n",
      "321       433   2015-03-28         570          HIGH\n",
      "322       433   2015-03-29         500          HIGH\n",
      "323       436   2015-12-02         830     VERY HIGH\n",
      "324       436   2015-12-05         480           LOW\n",
      "325       436   2015-12-07         250           LOW\n",
      "326       436   2015-12-08         610          HIGH\n",
      "327       436   2015-12-09         260           LOW\n",
      "328       449   2015-02-19         260           LOW\n",
      "329       449   2015-02-22         320           LOW\n",
      "330       449   2015-02-23         140      VERY LOW\n",
      "331       460   2015-05-31         660          HIGH\n",
      "332       486   2015-05-20         620          HIGH\n",
      "333       486   2015-05-24        1130     VERY HIGH\n",
      "334       486   2015-05-25        1100     VERY HIGH\n",
      "335       486   2015-05-27         600          HIGH\n",
      "336       487   2015-04-10         480           LOW\n",
      "337       496   2015-11-25        1020     VERY HIGH\n",
      "338       496   2015-11-28         690          HIGH\n",
      "339       496   2015-11-29        1100     VERY HIGH\n",
      "340       496   2015-11-30         340           LOW\n",
      "\n",
      "[341 rows x 4 columns]\n"
     ]
    }
   ],
   "source": [
    "data = np.array(result_deposit) # numpy convert to string all values\n",
    "values = data[:, 2].astype(int) # get deposit array from dataset\n",
    "bins = 25\n",
    "\n",
    "plt.figure(figsize=(8, 8))  \n",
    "arr = plt.hist(values, bins, alpha=0.5, histtype='bar', ec='black')\n",
    "plt.title('Players Deposit Distribution')\n",
    "plt.xlabel('Deposit')\n",
    "plt.ylabel('No of Players')\n",
    "plt.grid(axis='y', alpha=0.75)\n",
    "for i in range(bins):\n",
    "    plt.text(arr[1][i] + 15, arr[0][i], str(int(arr[0][i])))\n",
    "    \n",
    "plt.show()\n",
    "\n",
    "#print(tabulate(data, headers=[\"player_id\",\"checkin_time\", \"tot_deposit\", \"deposit_level\"]))\n",
    "\n",
    "dataset = pd.DataFrame({'player_id': data[:, 0], \n",
    "                        'checkin_time': data[:, 1],\n",
    "                        'tot_deposit': data[:, 2],\n",
    "                        'deposit_level': data[:, 3]})\n",
    "dataset = dataset.reindex(columns=['player_id', 'checkin_time', 'tot_deposit', 'deposit_level'])\n",
    "print(dataset)"
   ]
  },
  {
   "cell_type": "code",
   "execution_count": null,
   "metadata": {},
   "outputs": [],
   "source": []
  }
 ],
 "metadata": {
  "kernelspec": {
   "display_name": "Python 3",
   "language": "python",
   "name": "python3"
  },
  "language_info": {
   "codemirror_mode": {
    "name": "ipython",
    "version": 3
   },
   "file_extension": ".py",
   "mimetype": "text/x-python",
   "name": "python",
   "nbconvert_exporter": "python",
   "pygments_lexer": "ipython3",
   "version": "3.5.2"
  }
 },
 "nbformat": 4,
 "nbformat_minor": 2
}
